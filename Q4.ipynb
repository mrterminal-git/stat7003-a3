{
 "cells": [
  {
   "cell_type": "markdown",
   "id": "eb7ae6a8",
   "metadata": {},
   "source": [
    "#### Q4 (d)"
   ]
  },
  {
   "cell_type": "code",
   "execution_count": null,
   "id": "1945a56a",
   "metadata": {},
   "outputs": [
    {
     "data": {
      "text/plain": [
       "({'avg_restocks': 0.192,\n",
       "  'avg_lost_sales': np.float64(0.041),\n",
       "  'avg_profit': np.float64(4.83)},\n",
       " {'avg_restocks': 0.243,\n",
       "  'avg_lost_sales': np.float64(0.0),\n",
       "  'avg_profit': np.float64(4.345)})"
      ]
     },
     "execution_count": 1,
     "metadata": {},
     "output_type": "execute_result"
    }
   ],
   "source": [
    "import numpy as np\n",
    "\n",
    "# Simulation settings\n",
    "P = 10\n",
    "C = 15\n",
    "N_DAYS = 1000\n",
    "INITIAL_STOCK = 4\n",
    "\n",
    "# Demand distribution\n",
    "demand_values = [0, 1, 2]\n",
    "demand_probs = [0.4, 0.4, 0.2]\n",
    "\n",
    "# Simulation function\n",
    "def simulate(strategy):\n",
    "    stock = INITIAL_STOCK\n",
    "    restocks = 0\n",
    "    lost_sales = 0\n",
    "    total_sales = 0\n",
    "\n",
    "    for _ in range(N_DAYS):\n",
    "        demand = np.random.choice(demand_values, p=demand_probs)\n",
    "        actual_sales = min(stock, demand)\n",
    "        lost_sales += demand - actual_sales\n",
    "        total_sales += actual_sales\n",
    "        stock -= actual_sales\n",
    "\n",
    "        # Strategy i - restock if stock == 0\n",
    "        if strategy == 'strategy_1' and stock == 0:\n",
    "            stock = 4\n",
    "            restocks += 1\n",
    "\n",
    "        # Strategy ii - restock if stock < 2\n",
    "        elif strategy == 'strategy_2' and stock < 2:\n",
    "            stock = 4\n",
    "            restocks += 1\n",
    "\n",
    "    revenue = total_sales * P\n",
    "    restock_cost = restocks * C\n",
    "    profit = revenue - restock_cost\n",
    "\n",
    "    return {\n",
    "        'avg_restocks': restocks / N_DAYS,\n",
    "        'avg_lost_sales': lost_sales / N_DAYS,\n",
    "        'avg_profit': profit / N_DAYS\n",
    "    }\n",
    "\n",
    "# --- MAIN EXECUTION ---\n",
    "results_strategy_1 = simulate('strategy_1')\n",
    "results_strategy_2 = simulate('strategy_2')\n",
    "\n",
    "results_strategy_1, results_strategy_2\n"
   ]
  }
 ],
 "metadata": {
  "kernelspec": {
   "display_name": "DeepLearningSTAT7007",
   "language": "python",
   "name": "python3"
  },
  "language_info": {
   "codemirror_mode": {
    "name": "ipython",
    "version": 3
   },
   "file_extension": ".py",
   "mimetype": "text/x-python",
   "name": "python",
   "nbconvert_exporter": "python",
   "pygments_lexer": "ipython3",
   "version": "3.12.9"
  }
 },
 "nbformat": 4,
 "nbformat_minor": 5
}
